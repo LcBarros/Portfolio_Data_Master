{
 "cells": [
  {
   "cell_type": "code",
   "execution_count": 1,
   "metadata": {},
   "outputs": [],
   "source": [
    "import pandas as pd\n",
    "import numpy as np"
   ]
  },
  {
   "cell_type": "code",
   "execution_count": 11,
   "metadata": {},
   "outputs": [],
   "source": [
    "#COMANDO PARA NÃO QUEBRAR LINHA NO DATAFRAME\n",
    "pd.set_option('expand_frame_repr', False)"
   ]
  },
  {
   "cell_type": "code",
   "execution_count": 2,
   "metadata": {},
   "outputs": [],
   "source": [
    "#LOAD:\n",
    "df2 = pd.read_csv('dados/IFDATA_PF_db.csv', sep=';')"
   ]
  },
  {
   "cell_type": "code",
   "execution_count": 3,
   "metadata": {},
   "outputs": [],
   "source": [
    "#QUESTOES\n",
    "#Q1 - MAIORES INSTITUIÇÕES - PF\n",
    "#Q2 - PRINCIPAIS PRODUTOS / INAD - PF\n",
    "#Q3 - RELEVÂNCIA OPERAÇÃO CARTÃO DE CRÉDITO - PF"
   ]
  },
  {
   "cell_type": "code",
   "execution_count": 12,
   "metadata": {},
   "outputs": [
    {
     "name": "stdout",
     "output_type": "stream",
     "text": [
      "         vencido   vencer    total   inad\n",
      "codinst                                  \n",
      "C0051626   5.72B  788.44B  794.16B  0.72%\n",
      "C0049906  10.16B   542.5B  552.66B  1.84%\n",
      "C0010069  17.72B  387.59B  405.31B  4.37%\n",
      "C0010045   12.8B  339.05B  351.86B  3.64%\n",
      "C0030379   9.03B  270.82B  279.86B  3.23%\n",
      "...          ...      ...      ...    ...\n",
      "41592532    0.0M     0.0M     0.0M  0.00%\n",
      "40819834    0.0M     0.0M     0.0M  0.00%\n",
      "40768766    0.0M     0.0M     0.0M  0.00%\n",
      "40434681    0.0M     0.0M     0.0M  0.00%\n",
      "48176336    0.0M     0.0M     0.0M  0.00%\n",
      "\n",
      "[1358 rows x 4 columns]\n"
     ]
    }
   ],
   "source": [
    "Q1 = df2.assign(\n",
    "    vencido = np.where(df2['nomecoluna'].str.contains('VENCIDO'),df2['saldo'],0),\n",
    "    vencer = np.where(df2['nomecoluna'].str.contains('VENCER'),df2['saldo'],0),\n",
    "    total = df2['saldo']\n",
    "    ).groupby('codinst').agg({'vencido':sum, 'vencer':sum, 'total':sum}).sort_values(by='total', ascending=False)\n",
    "\n",
    "inad = Q1['vencido'] / Q1['total']  \n",
    "Q1 = Q1.assign(inad=inad)\n",
    "\n",
    "# TRATANDO VALORES NÃO NUMÉRICOS PARA NaN\n",
    "Q1['inad'] = pd.to_numeric(Q1['inad'], errors='coerce')\n",
    "\n",
    "# PREENCHENDO NaN COM 0 E FORMATANDO ESTES E DEMAIS COM PERCENTUAL\n",
    "Q1['inad'] = Q1['inad'].fillna(0).apply(lambda x: '{:.2%}'.format(x))\n",
    "\n",
    "# TRATANDO VALORES NUMÉRICOS PARA BILHÕES OU MILHÕES\n",
    "def convert_to_billion(x):\n",
    "    if x > 1000000000:\n",
    "        return str(round((x/1000000000),2)) + 'B'\n",
    "    else: \n",
    "        return str(round((x/1000000),2)) + 'M'\n",
    "\n",
    "Q1['vencido'] = Q1['vencido'].apply(lambda x : convert_to_billion(x))\n",
    "Q1['vencer'] = Q1['vencer'].apply(lambda x : convert_to_billion(x))\n",
    "Q1['total'] = Q1['total'].apply(lambda x : convert_to_billion(x))\n",
    "\n",
    "print(Q1)"
   ]
  },
  {
   "cell_type": "code",
   "execution_count": 13,
   "metadata": {},
   "outputs": [
    {
     "name": "stdout",
     "output_type": "stream",
     "text": [
      "                                    vencido   vencer    total    inad\n",
      "grupo                                                                \n",
      "Habitação                             1.51B  933.13B  934.64B   0.16%\n",
      "Empréstimo com Consignação em Folha   3.62B  586.68B  590.29B   0.61%\n",
      "Rural e Agroindustrial                2.22B  489.79B  492.01B   0.45%\n",
      "Cartão de Crédito                    52.45B  439.15B   491.6B  10.67%\n",
      "Empréstimo sem Consignação em Folha  10.64B  254.33B  264.97B   4.02%\n",
      "Veículos                              4.75B  255.37B  260.11B   1.82%\n",
      "Outros Créditos                      13.09B  166.76B  179.85B   7.28%\n"
     ]
    }
   ],
   "source": [
    "Q2 = df2.assign(\n",
    "    vencido = np.where(df2['nomecoluna'].str.contains('VENCIDO'),df2['saldo'],0),\n",
    "    vencer = np.where(df2['nomecoluna'].str.contains('VENCER'),df2['saldo'],0),\n",
    "    total = df2['saldo']\n",
    "    ).groupby('grupo').agg({'vencido':sum, 'vencer':sum, 'total':sum}).sort_values(by='total', ascending=False)\n",
    "\n",
    "inad = Q2['vencido'] / Q2['total']  \n",
    "Q2 = Q2.assign(inad=inad)\n",
    "\n",
    "# TRATANDO VALORES NÃO NUMÉRICOS PARA NaN\n",
    "Q2['inad'] = pd.to_numeric(Q2['inad'], errors='coerce')\n",
    "\n",
    "# PREENCHENDO NaN COM 0 E FORMATANDO ESTES E DEMAIS COM PERCENTUAL\n",
    "Q2['inad'] = Q2['inad'].fillna(0).apply(lambda x: '{:.2%}'.format(x))\n",
    "\n",
    "# TRATANDO VALORES NUMÉRICOS PARA BILHÕES OU MILHÕES\n",
    "Q2['vencido'] = Q2['vencido'].apply(lambda x : convert_to_billion(x))\n",
    "Q2['vencer'] = Q2['vencer'].apply(lambda x : convert_to_billion(x))\n",
    "Q2['total'] = Q2['total'].apply(lambda x : convert_to_billion(x))\n",
    "\n",
    "print(Q2)"
   ]
  },
  {
   "cell_type": "code",
   "execution_count": 43,
   "metadata": {},
   "outputs": [
    {
     "name": "stdout",
     "output_type": "stream",
     "text": [
      "                                 grupo    total % do total\n",
      "3                            Habitação  934.64B     29.08%\n",
      "1  Empréstimo com Consignação em Folha  590.29B     18.37%\n",
      "5               Rural e Agroindustrial  492.01B     15.31%\n",
      "0                    Cartão de Crédito   491.6B     15.30%\n",
      "2  Empréstimo sem Consignação em Folha  264.97B      8.25%\n",
      "6                             Veículos  260.11B      8.09%\n",
      "4                      Outros Créditos  179.85B      5.60%\n"
     ]
    }
   ],
   "source": [
    "Q3 = df2.assign(\n",
    "    total = df2['saldo']\n",
    "    ).groupby('grupo', as_index=False).agg({'total':sum}).sort_values(by='total', ascending=False)\n",
    "total = Q3['total'].sum()\n",
    "\n",
    "# CALCULANDO A REPRESENTATIVIDADE SOBRE O TOTAL E FORMATANDO O PERCENTUAL\n",
    "Q3['% do total'] = Q3['total'].apply(lambda x: (x/total))\n",
    "Q3['% do total'] = Q3['% do total'].apply(lambda x: '{:.2%}'.format(x))\n",
    "\n",
    "# TRATANDO VALORES NUMÉRICOS PARA BILHÕES OU MILHÕES\n",
    "Q3['total'] = Q3['total'].apply(lambda x : convert_to_billion(x))\n",
    "\n",
    "print(Q3)\n"
   ]
  },
  {
   "cell_type": "code",
   "execution_count": 41,
   "metadata": {},
   "outputs": [
    {
     "name": "stdout",
     "output_type": "stream",
     "text": [
      "As 5 maiores instituições, em tamanho da carteira de crédito para pessoa física, são: \n",
      "          vencido   vencer    total   inad\n",
      "codinst                                  \n",
      "C0051626   5.72B  788.44B  794.16B  0.72%\n",
      "C0049906  10.16B   542.5B  552.66B  1.84%\n",
      "C0010069  17.72B  387.59B  405.31B  4.37%\n",
      "C0010045   12.8B  339.05B  351.86B  3.64%\n",
      "C0030379   9.03B  270.82B  279.86B  3.23% \n",
      " \n",
      "Os 5 principais produtos da carteira de crédito para pessoa física e suas respectivas taxas de inadimplência, são: \n",
      "                                     vencido   vencer    total    inad\n",
      "grupo                                                                \n",
      "Habitação                             1.51B  933.13B  934.64B   0.16%\n",
      "Empréstimo com Consignação em Folha   3.62B  586.68B  590.29B   0.61%\n",
      "Rural e Agroindustrial                2.22B  489.79B  492.01B   0.45%\n",
      "Cartão de Crédito                    52.45B  439.15B   491.6B  10.67%\n",
      "Empréstimo sem Consignação em Folha  10.64B  254.33B  264.97B   4.02% \n",
      " \n",
      "A relevância de operações com Cartão de crédito, dentro da carteira de crédito para pessoa física, é de: \n",
      "                grupo   total % do total\n",
      "0  Cartão de Crédito  491.6B     15.30% \n",
      " \n"
     ]
    }
   ],
   "source": [
    "#QUESTOES - PF\n",
    "#Q1 - MAIORES INSTITUIÇÕES - PF\n",
    "#Q2 - PRINCIPAIS PRODUTOS / INAD - PF\n",
    "#Q3 - RELEVÂNCIA OPERAÇÃO CARTÃO DE CRÉDITO - PF\n",
    "print('As 5 maiores instituições, em tamanho da carteira de crédito para pessoa física, são: \\n {} \\n '.format(Q1.head(5)))\n",
    "print('Os 5 principais produtos da carteira de crédito para pessoa física e suas respectivas taxas de inadimplência, são: \\n {} \\n '.format(Q2.head(5)))\n",
    "print('A relevância de operações com Cartão de crédito, dentro da carteira de crédito para pessoa física, é de: \\n {} \\n '.format(Q3[Q3['grupo'].str.contains(\"Cartão de Crédito\")]))"
   ]
  },
  {
   "cell_type": "code",
   "execution_count": null,
   "metadata": {},
   "outputs": [],
   "source": []
  }
 ],
 "metadata": {
  "kernelspec": {
   "display_name": "alura_pandas",
   "language": "python",
   "name": "python3"
  },
  "language_info": {
   "codemirror_mode": {
    "name": "ipython",
    "version": 3
   },
   "file_extension": ".py",
   "mimetype": "text/x-python",
   "name": "python",
   "nbconvert_exporter": "python",
   "pygments_lexer": "ipython3",
   "version": "3.10.11"
  },
  "orig_nbformat": 4,
  "vscode": {
   "interpreter": {
    "hash": "1d7c4557cd3158b0f796ee85269d350a75941f960725448bb57558bf7f669a64"
   }
  }
 },
 "nbformat": 4,
 "nbformat_minor": 2
}
