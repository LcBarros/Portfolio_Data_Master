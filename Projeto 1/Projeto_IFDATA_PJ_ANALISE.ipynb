{
 "cells": [
  {
   "cell_type": "code",
   "execution_count": 1,
   "metadata": {},
   "outputs": [],
   "source": [
    "import pandas as pd\n",
    "import numpy as np\n",
    "from sqlalchemy import create_engine\n"
   ]
  },
  {
   "cell_type": "code",
   "execution_count": 2,
   "metadata": {},
   "outputs": [],
   "source": [
    "#COMANDO PARA NÃO QUEBRAR LINHA NO DATAFRAME\n",
    "pd.set_option('expand_frame_repr', False)"
   ]
  },
  {
   "cell_type": "code",
   "execution_count": 3,
   "metadata": {},
   "outputs": [],
   "source": [
    "#PARAMETROS PARA CONSULTA SQL\n",
    "hostname = 'localhost'\n",
    "database = 'dev_lucas'\n",
    "username = 'postgres'\n",
    "pwd = 'admin'\n",
    "\n",
    "engine = create_engine('postgresql+psycopg2://' + username + ':' + pwd + '@' + hostname + '/' + database)\n",
    "\n",
    "with engine.connect() as conn:\n",
    "    sql = 'SELECT * from ifdata_pj'\n",
    "    df2 = pd.read_sql(sql, con = conn)\n"
   ]
  },
  {
   "cell_type": "code",
   "execution_count": 4,
   "metadata": {},
   "outputs": [],
   "source": [
    "#QUESTOES\n",
    "#Q1 - MAIORES INSTITUIÇÕES - PJ\n",
    "#Q2 - PRINCIPAIS PRODUTOS / INAD - PJ\n",
    "#Q4 - PRINCIPAL PRODUTO"
   ]
  },
  {
   "cell_type": "code",
   "execution_count": 5,
   "metadata": {},
   "outputs": [
    {
     "name": "stdout",
     "output_type": "stream",
     "text": [
      "          vencido   vencer    total   inad\n",
      "codinst                                   \n",
      "C0049906    3.18B  279.91B  283.09B  1.12%\n",
      "33657248  194.87M  278.09B  278.28B  0.07%\n",
      "C0010045    4.39B  252.56B  256.94B  1.71%\n",
      "C0010069    2.87B  224.33B   227.2B  1.26%\n",
      "C0051626    2.02B  210.47B  212.49B  0.95%\n",
      "...           ...      ...      ...    ...\n",
      "48584954     0.0M     0.0M     0.0M  0.00%\n",
      "48176336     0.0M     0.0M     0.0M  0.00%\n",
      "48172860     0.0M     0.0M     0.0M  0.00%\n",
      "48140925     0.0M     0.0M     0.0M  0.00%\n",
      "23241540     0.0M     0.0M     0.0M  0.00%\n",
      "\n",
      "[1358 rows x 4 columns]\n"
     ]
    }
   ],
   "source": [
    "Q1 = df2.assign(\n",
    "    vencido = np.where(df2['nomecoluna'].str.contains('VENCIDO'),df2['saldo'],0),\n",
    "    vencer = np.where(df2['nomecoluna'].str.contains('VENCER'),df2['saldo'],0),\n",
    "    total = df2['saldo']\n",
    "    ).groupby('codinst').agg({'vencido':sum, 'vencer':sum, 'total':sum}).sort_values(by='total', ascending=False)\n",
    "\n",
    "inad = Q1['vencido'] / Q1['total']  \n",
    "Q1 = Q1.assign(inad=inad)\n",
    "\n",
    "# TRATANDO VALORES NÃO NUMÉRICOS PARA NaN\n",
    "Q1['inad'] = pd.to_numeric(Q1['inad'], errors='coerce')\n",
    "\n",
    "# PREENCHENDO NaN COM 0 E FORMATANDO ESTES E DEMAIS COM PERCENTUAL\n",
    "Q1['inad'] = Q1['inad'].fillna(0).apply(lambda x: '{:.2%}'.format(x))\n",
    "\n",
    "# TRATANDO VALORES NUMÉRICOS PARA BILHÕES OU MILHÕES\n",
    "def convert_to_billion(x):\n",
    "    if x > 1000000000:\n",
    "        return str(round((x/1000000000),2)) + 'B'\n",
    "    else: \n",
    "        return str(round((x/1000000),2)) + 'M'\n",
    "\n",
    "Q1['vencido'] = Q1['vencido'].apply(lambda x : convert_to_billion(x))\n",
    "Q1['vencer'] = Q1['vencer'].apply(lambda x : convert_to_billion(x))\n",
    "Q1['total'] = Q1['total'].apply(lambda x : convert_to_billion(x))\n",
    "\n",
    "\n",
    "print(Q1)"
   ]
  },
  {
   "cell_type": "code",
   "execution_count": 9,
   "metadata": {},
   "outputs": [
    {
     "name": "stdout",
     "output_type": "stream",
     "text": [
      "                                               grupo  vencido   vencer    total   inad\n",
      "0                                    Capital de Giro     6.6B  593.18B  599.78B  1.10%\n",
      "3  Financiamento de Infraestrutura/Desenvolviment...  985.91M  505.38B  506.36B  0.19%\n",
      "6                           Operações com Recebíveis    1.77B  247.17B  248.94B  0.71%\n",
      "5                                       Investimento    1.09B  247.57B  248.66B  0.44%\n",
      "2                                  Comércio Exterior   710.4M  227.32B  228.03B  0.31%\n",
      "7                                    Outros Créditos    6.06B   132.0B  138.05B  4.39%\n",
      "1                  Cheque Especial e Conta Garantida    3.53B    47.5B   51.03B  6.92%\n",
      "8                             Rural e Agroindustrial    87.9M   47.74B   47.83B  0.18%\n",
      "4                                       Habitacional  164.32M    25.4B   25.57B  0.64%\n"
     ]
    }
   ],
   "source": [
    "Q2 = df2.assign(\n",
    "    vencido = np.where(df2['nomecoluna'].str.contains('VENCIDO'),df2['saldo'],0),\n",
    "    vencer = np.where(df2['nomecoluna'].str.contains('VENCER'),df2['saldo'],0),\n",
    "    total = df2['saldo']\n",
    "    ).groupby('grupo', as_index=False).agg({'vencido':sum, 'vencer':sum, 'total':sum}).sort_values(by='total', ascending=False)\n",
    "\n",
    "inad = Q2['vencido'] / Q2['total']  \n",
    "Q2 = Q2.assign(inad=inad)\n",
    "\n",
    "# TRATANDO VALORES NÃO NUMÉRICOS PARA NaN\n",
    "Q2['inad'] = pd.to_numeric(Q2['inad'], errors='coerce')\n",
    "\n",
    "# PREENCHENDO NaN COM 0 E FORMATANDO ESTES E DEMAIS COM PERCENTUAL\n",
    "Q2['inad'] = Q2['inad'].fillna(0).apply(lambda x: '{:.2%}'.format(x))\n",
    "\n",
    "# TRATANDO VALORES NUMÉRICOS PARA BILHÕES OU MILHÕES\n",
    "# COMO A FUNÇÃO FOI DEFINIDA NA ETAPA ANTERIOR, NÃO É NECESSARIO REFAZE-LA\n",
    "Q2['vencido'] = Q2['vencido'].apply(lambda x : convert_to_billion(x))\n",
    "Q2['vencer'] = Q2['vencer'].apply(lambda x : convert_to_billion(x))\n",
    "Q2['total'] = Q2['total'].apply(lambda x : convert_to_billion(x))\n",
    "\n",
    "print(Q2)"
   ]
  },
  {
   "cell_type": "code",
   "execution_count": 10,
   "metadata": {},
   "outputs": [
    {
     "name": "stdout",
     "output_type": "stream",
     "text": [
      "As 5 maiores instituições, em tamanho da carteira de crédito para pessoa jurídica, são: \n",
      "           vencido   vencer    total   inad\n",
      "codinst                                   \n",
      "C0049906    3.18B  279.91B  283.09B  1.12%\n",
      "33657248  194.87M  278.09B  278.28B  0.07%\n",
      "C0010045    4.39B  252.56B  256.94B  1.71%\n",
      "C0010069    2.87B  224.33B   227.2B  1.26%\n",
      "C0051626    2.02B  210.47B  212.49B  0.95% \n",
      " \n",
      "Os 5 principais produtos da carteira de crédito para pessoa jurídica e suas respectivas taxas de inadimplência, são: \n",
      "                                                grupo  vencido   vencer    total   inad\n",
      "0                                    Capital de Giro     6.6B  593.18B  599.78B  1.10%\n",
      "3  Financiamento de Infraestrutura/Desenvolviment...  985.91M  505.38B  506.36B  0.19%\n",
      "6                           Operações com Recebíveis    1.77B  247.17B  248.94B  0.71%\n",
      "5                                       Investimento    1.09B  247.57B  248.66B  0.44%\n",
      "2                                  Comércio Exterior   710.4M  227.32B  228.03B  0.31% \n",
      " \n",
      "O produto principal dentro da carteira de crédito para pessoa jurídica é o Capital de Giro que possui uma carteira de 599.78B e uma taxa de inadimplência de 1.10%.\n"
     ]
    }
   ],
   "source": [
    "#QUESTOES - PJ\n",
    "#Q1 - MAIORES INSTITUIÇÕES - PJ\n",
    "#Q2 - PRINCIPAIS PRODUTOS / INAD - PJ\n",
    "#Q4 - PRINCIPAL PRODUTO\n",
    "print('As 5 maiores instituições, em tamanho da carteira de crédito para pessoa jurídica, são: \\n {} \\n '.format(Q1.head(5)))\n",
    "print('Os 5 principais produtos da carteira de crédito para pessoa jurídica e suas respectivas taxas de inadimplência, são: \\n {} \\n '.format(Q2.head(5)))\n",
    "print('O produto principal dentro da carteira de crédito para pessoa jurídica é o {} que possui uma carteira de {} e uma taxa de inadimplência \\\n",
    "      de {}.'.format(Q2['grupo'].iloc[0], Q2['total'].iloc[0], Q2['inad'].iloc[0]))"
   ]
  }
 ],
 "metadata": {
  "kernelspec": {
   "display_name": "dev_lucas",
   "language": "python",
   "name": "python3"
  },
  "language_info": {
   "codemirror_mode": {
    "name": "ipython",
    "version": 3
   },
   "file_extension": ".py",
   "mimetype": "text/x-python",
   "name": "python",
   "nbconvert_exporter": "python",
   "pygments_lexer": "ipython3",
   "version": "3.10.11"
  },
  "orig_nbformat": 4
 },
 "nbformat": 4,
 "nbformat_minor": 2
}
